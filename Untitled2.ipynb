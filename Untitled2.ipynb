{
  "nbformat": 4,
  "nbformat_minor": 0,
  "metadata": {
    "colab": {
      "name": "Untitled2.ipynb",
      "provenance": [],
      "collapsed_sections": [],
      "authorship_tag": "ABX9TyN1epkasTtVEkuptX/tL9Sd",
      "include_colab_link": true
    },
    "kernelspec": {
      "name": "python3",
      "display_name": "Python 3"
    },
    "language_info": {
      "name": "python"
    }
  },
  "cells": [
    {
      "cell_type": "markdown",
      "metadata": {
        "id": "view-in-github",
        "colab_type": "text"
      },
      "source": [
        "<a href=\"https://colab.research.google.com/github/Regan17/Random-number-generator/blob/main/Untitled2.ipynb\" target=\"_parent\"><img src=\"https://colab.research.google.com/assets/colab-badge.svg\" alt=\"Open In Colab\"/></a>"
      ]
    },
    {
      "cell_type": "code",
      "execution_count": 1,
      "metadata": {
        "id": "u02ykHFYGTzd"
      },
      "outputs": [],
      "source": [
        "import random as r"
      ]
    },
    {
      "cell_type": "code",
      "source": [
        "R=r.randint(0,100)\n",
        "R"
      ],
      "metadata": {
        "colab": {
          "base_uri": "https://localhost:8080/"
        },
        "id": "xMnPDQT1GaO9",
        "outputId": "0d5657a0-0779-41d0-9b5d-718a0abe20d7"
      },
      "execution_count": 2,
      "outputs": [
        {
          "output_type": "execute_result",
          "data": {
            "text/plain": [
              "63"
            ]
          },
          "metadata": {},
          "execution_count": 2
        }
      ]
    },
    {
      "cell_type": "code",
      "source": [
        "def multiple(n):\n",
        "  R = r.randint(1, 10)\n",
        "  print(f\"The number to be guessed is a factor of {R*n}\")\n",
        "multiple(R)"
      ],
      "metadata": {
        "colab": {
          "base_uri": "https://localhost:8080/"
        },
        "id": "UrbsRoN7GiPn",
        "outputId": "6c49ecc9-c5fc-40e6-81e6-739685f6aaea"
      },
      "execution_count": 3,
      "outputs": [
        {
          "output_type": "stream",
          "name": "stdout",
          "text": [
            "The number to be guessed is a factor of 315\n"
          ]
        }
      ]
    },
    {
      "cell_type": "code",
      "source": [
        "def greaterThan(n):\n",
        "  R = r.randint(1, 100)\n",
        "  if(n > R):\n",
        "    print(f\"The number to be guessed is greater than {R}\")\n",
        "  elif(n < R):\n",
        "    print(f\"The number to be guessed is lesser than {R}\")\n",
        "  else:\n",
        "    print(f\"The number to be guessed is a factor of {R*n}\")\n",
        "  \n",
        "greaterThan(R)"
      ],
      "metadata": {
        "colab": {
          "base_uri": "https://localhost:8080/"
        },
        "id": "ucCpAKdrGmXV",
        "outputId": "ddc5f070-84b0-4be4-a156-b540d715ea6d"
      },
      "execution_count": 4,
      "outputs": [
        {
          "output_type": "stream",
          "name": "stdout",
          "text": [
            "The number to be guessed is greater than 8\n"
          ]
        }
      ]
    },
    {
      "cell_type": "code",
      "source": [
        "def factors(n):\n",
        "  factor = []\n",
        "  for i in range(1, ((n//2)+1)):\n",
        "    if(n % i == 0):\n",
        "      factor.append(i)\n",
        "  return factor\n",
        "factors(R)"
      ],
      "metadata": {
        "colab": {
          "base_uri": "https://localhost:8080/"
        },
        "id": "lQcRKvKUGpYA",
        "outputId": "fe8b239b-1807-4a72-f3fb-f9e61debf876"
      },
      "execution_count": 5,
      "outputs": [
        {
          "output_type": "execute_result",
          "data": {
            "text/plain": [
              "[1, 3, 7, 9, 21]"
            ]
          },
          "metadata": {},
          "execution_count": 5
        }
      ]
    },
    {
      "cell_type": "code",
      "source": [
        "def guessing(R):\n",
        "  score = int(100)\n",
        "  iter = int(0)\n",
        "  a=1\n",
        "  while(True):\n",
        "\n",
        "    num = int(input(\"Please enter the guessed number: \"))\n",
        "    if iter % 2 == 0:\n",
        "      multiple(R)\n",
        "    elif iter == 3:\n",
        "      print(f\"The number to be guessed is divisible by {factors(R)}\")\n",
        "    else:\n",
        "      greaterThan(R)\n",
        "    \n",
        "    if(num == R):\n",
        "      print(f\"You guessed the number correctly, your score is {score}\")\n",
        "      break\n",
        "    else:\n",
        "      print(\"You guessed it wrong\")\n",
        "      score = score-5*a\n",
        "      a=a+1\n",
        "      iter = iter+1\n",
        "\n",
        "guessing(R)"
      ],
      "metadata": {
        "colab": {
          "base_uri": "https://localhost:8080/"
        },
        "id": "ibgNyxAzGtXc",
        "outputId": "e796d197-1112-4aa5-a925-ac68eabac0c1"
      },
      "execution_count": 6,
      "outputs": [
        {
          "output_type": "stream",
          "name": "stdout",
          "text": [
            "Please enter the guessed number: 21\n",
            "The number to be guessed is a factor of 189\n",
            "You guessed it wrong\n",
            "Please enter the guessed number: 42\n",
            "The number to be guessed is greater than 61\n",
            "You guessed it wrong\n",
            "Please enter the guessed number: 63\n",
            "The number to be guessed is a factor of 126\n",
            "You guessed the number correctly, your score is 85\n"
          ]
        }
      ]
    }
  ]
}